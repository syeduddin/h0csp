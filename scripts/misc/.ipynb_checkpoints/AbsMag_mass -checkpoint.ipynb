{
 "cells": [
  {
   "cell_type": "code",
   "execution_count": 32,
   "id": "ce32feb3",
   "metadata": {},
   "outputs": [],
   "source": [
    "from astropy.io import ascii\n",
    "import matplotlib.pylab as pl\n",
    "import numpy as np\n",
    "from astropy.table import join, hstack, vstack,Table\n",
    "from astropy.coordinates import Distance\n",
    "from astropy import units as u\n",
    "\n"
   ]
  },
  {
   "cell_type": "code",
   "execution_count": 33,
   "id": "3c91e642",
   "metadata": {},
   "outputs": [],
   "source": [
    "ceph = ascii.read('../../data/working/H_ceph_update3.csv')\n",
    "w = np.where(ceph['dist']>0)\n",
    "ceph=ceph[w]\n",
    "absc = ceph['Mmax']-ceph['dist'] +(ceph['st']-1)*1.17 -ceph['BV']*3.04\n"
   ]
  },
  {
   "cell_type": "code",
   "execution_count": 34,
   "id": "656c14e0",
   "metadata": {},
   "outputs": [],
   "source": [
    "trgb = ascii.read('../../data/working/H_trgb_update3.csv')\n",
    "w = np.where(trgb['dist']>0)\n",
    "trgb=trgb[w]\n",
    "abst = trgb['Mmax']-trgb['dist'] +(trgb['st']-1)*1.41 -trgb['BV']*3.07\n"
   ]
  },
  {
   "cell_type": "code",
   "execution_count": 35,
   "id": "24b7a225",
   "metadata": {},
   "outputs": [],
   "source": [
    "sbf = ascii.read('../../data/working/H_sbfj21_update3.csv')\n",
    "w = np.where(sbf['dist']>0)\n",
    "sbf=sbf[w]\n",
    "abss = sbf['Mmax']-sbf['dist'] +(sbf['st']-1)*1.07 -sbf['BV']*2.88\n"
   ]
  },
  {
   "cell_type": "code",
   "execution_count": 37,
   "id": "03a7c571",
   "metadata": {
    "scrolled": true
   },
   "outputs": [
    {
     "data": {
      "image/png": "[encoded data removed]",
      "text/plain": [
       "<Figure size 432x288 with 1 Axes>"
      ]
     },
     "metadata": {
      "needs_background": "light"
     },
     "output_type": "display_data"
    }
   ],
   "source": [
    "pl.plot(ceph['m'],absc,'bo',label='Cepehids')\n",
    "pl.plot(trgb['m'],abst,'ro', label='TRGB')\n",
    "pl.plot(sbf['m'],abss,'go', label='SBFJ21')\n",
    "pl.xlabel('Host Mass'), pl.ylabel('Absolute magnitude')\n",
    "pl.savefig('H_absmag_mass.pdf')"
   ]
  },
  {
   "cell_type": "code",
   "execution_count": null,
   "id": "264c45c0",
   "metadata": {},
   "outputs": [],
   "source": []
  }
 ],
 "metadata": {
  "kernelspec": {
   "display_name": "Python 3",
   "language": "python",
   "name": "python3"
  },
  "language_info": {
   "codemirror_mode": {
    "name": "ipython",
    "version": 3
   },
   "file_extension": ".py",
   "mimetype": "text/x-python",
   "name": "python",
   "nbconvert_exporter": "python",
   "pygments_lexer": "ipython3",
   "version": "3.8.5"
  }
 },
 "nbformat": 4,
 "nbformat_minor": 5
}
