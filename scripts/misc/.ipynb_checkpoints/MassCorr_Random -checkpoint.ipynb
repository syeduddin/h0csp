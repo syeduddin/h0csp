{
 "cells": [
  {
   "cell_type": "code",
   "execution_count": 155,
   "id": "1346e0a2",
   "metadata": {},
   "outputs": [],
   "source": [
    "from astropy.io import ascii \n",
    "import matplotlib.pylab as pl \n",
    "import numpy as np\n",
    "from astropy.table import Table\n"
   ]
  },
  {
   "cell_type": "code",
   "execution_count": 156,
   "id": "07f277c5",
   "metadata": {},
   "outputs": [
    {
     "name": "stdout",
     "output_type": "stream",
     "text": [
      "['sn', 'res', 'eres', 'zcmb', 'st', 'B-V', 'm', 'ml', 'mu', 'sample', 'cal']\n"
     ]
    },
    {
     "data": {
      "text/plain": [
       "[<matplotlib.lines.Line2D at 0x7fc1b959f3a0>]"
      ]
     },
     "execution_count": 156,
     "metadata": {},
     "output_type": "execute_result"
    },
    {
     "data": {
      "image/png": "[encoded data removed]",
      "text/plain": [
       "<Figure size 432x288 with 1 Axes>"
      ]
     },
     "metadata": {
      "needs_background": "light"
     },
     "output_type": "display_data"
    }
   ],
   "source": [
    "tab = ascii.read('../../results/Ceph_res_B_nohm.csv',format='csv')\n",
    "\n",
    "w = np.where(tab['m']!= 11.5)\n",
    "tab=tab[w]\n",
    "w = np.where(np.abs(tab['res'])<np.std(tab['res']))\n",
    "tab=tab[w]\n",
    "\n",
    "print((tab.colnames))\n",
    "\n",
    "pl.plot(tab['m'],tab['res'],'ro')"
   ]
  },
  {
   "cell_type": "code",
   "execution_count": 157,
   "id": "dd0a2a81",
   "metadata": {},
   "outputs": [],
   "source": [
    "mres=[]\n",
    "emres=[]\n",
    "off=[]\n",
    "eoff=[]\n",
    "# Randomization \n",
    "for i in range(10000):\n",
    "    for col in tab.colnames:\n",
    "        tab[col] = np.random.permutation(tab[col])\n",
    "        mass = np.random.permutation(tab['m'])\n",
    "        emu = tab['mu']-tab['m']\n",
    "        eml = tab['m'] -tab['ml']\n",
    "        res = tab['res']\n",
    "        eres = tab['eres']\n",
    "        \n",
    "    wl=np.where(mass<10)\n",
    "    wh=np.where(mass>10)\n",
    "    \n",
    "    err_int=(np.std(res)) - (np.mean(eres))\n",
    "    \n",
    "    wt= np.sqrt(1/((eres**2)+(err_int**2))) # weights\n",
    "    #wt= 1/((eres**2.)+(err_int**.2)) # weights\n",
    "    \n",
    "    # Full sample \n",
    "    mean_x1= np.sum(res*wt)/np.sum(wt)\n",
    "    error_x1= np.sqrt((1/np.sum(wt)))\n",
    "    \n",
    "    # Low\n",
    "    mean_x1_low= np.sum(res[wl]*wt[wl])/np.sum(wt[wl])\n",
    "    error_x1_low= np.sqrt((1/np.sum(wt[wl])))\n",
    "    \n",
    "    #high\n",
    "    \n",
    "    mean_x1_high= np.sum(res[wh]*wt[wh])/np.sum(wt[wh])\n",
    "    error_x1_high =np.sqrt((1/np.sum(wt[wh])))\n",
    "    \n",
    "    off.append(float('%6.2f'%(mean_x1_high-mean_x1_low))) \n",
    "    eoff.append('%6.2f'%(np.sqrt((error_x1_low**2)+(error_x1_high**2))))\n",
    "    \n",
    "        \n"
   ]
  },
  {
   "cell_type": "code",
   "execution_count": 158,
   "id": "8d075920",
   "metadata": {},
   "outputs": [
    {
     "data": {
      "text/plain": [
       "(array([2.500e+01, 8.700e+01, 8.970e+02, 3.093e+03, 2.007e+03, 2.955e+03,\n",
       "        6.000e+02, 3.180e+02, 1.500e+01, 3.000e+00]),\n",
       " array([-0.07 , -0.055, -0.04 , -0.025, -0.01 ,  0.005,  0.02 ,  0.035,\n",
       "         0.05 ,  0.065,  0.08 ]),\n",
       " [<matplotlib.patches.Polygon at 0x7fc1b9023280>])"
      ]
     },
     "execution_count": 158,
     "metadata": {},
     "output_type": "execute_result"
    },
    {
     "data": {
      "image/png": "[encoded data removed]",
      "text/plain": [
       "<Figure size 432x288 with 1 Axes>"
      ]
     },
     "metadata": {
      "needs_background": "light"
     },
     "output_type": "display_data"
    }
   ],
   "source": [
    "#pl.errorbar(mass,res,xerr=[emu,eml],yerr=eres, fmt='o')\n",
    "pl.hist(off,histtype='step')\n",
    "pl.xlabel(\"r$\\Delta \\mu$\")\n"
   ]
  },
  {
   "cell_type": "code",
   "execution_count": 159,
   "id": "c5e94225",
   "metadata": {},
   "outputs": [
    {
     "name": "stdout",
     "output_type": "stream",
     "text": [
      "-0.00041000000000000005\n"
     ]
    }
   ],
   "source": [
    "\n",
    "print(np.mean(off)) "
   ]
  },
  {
   "cell_type": "code",
   "execution_count": null,
   "id": "f04b2cd2",
   "metadata": {},
   "outputs": [],
   "source": []
  }
 ],
 "metadata": {
  "kernelspec": {
   "display_name": "Python 3",
   "language": "python",
   "name": "python3"
  },
  "language_info": {
   "codemirror_mode": {
    "name": "ipython",
    "version": 3
   },
   "file_extension": ".py",
   "mimetype": "text/x-python",
   "name": "python",
   "nbconvert_exporter": "python",
   "pygments_lexer": "ipython3",
   "version": "3.8.5"
  }
 },
 "nbformat": 4,
 "nbformat_minor": 5
}
