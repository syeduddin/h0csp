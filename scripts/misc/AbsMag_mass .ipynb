{
 "cells": [
  {
   "cell_type": "code",
   "execution_count": 46,
   "id": "ce32feb3",
   "metadata": {},
   "outputs": [],
   "source": [
    "from astropy.io import ascii\n",
    "import matplotlib.pylab as pl\n",
    "import numpy as np\n",
    "from astropy.table import join, hstack, vstack,Table\n",
    "from astropy.coordinates import Distance\n",
    "from astropy import units as u\n",
    "\n"
   ]
  },
  {
   "cell_type": "code",
   "execution_count": 47,
   "id": "3c91e642",
   "metadata": {},
   "outputs": [],
   "source": [
    "ceph = ascii.read('../../data/working/H_ceph_update3.csv')\n",
    "w = np.where(ceph['dist']>0)\n",
    "ceph=ceph[w]\n",
    "#absc = ceph['Mmax']-ceph['dist'] +(ceph['st']-1)*1.17 -ceph['BV']*3.04\n",
    "absc = ceph['Mmax']-ceph['dist'] +(ceph['st']-1)*(-0.22) -ceph['BV']*.23\n"
   ]
  },
  {
   "cell_type": "code",
   "execution_count": 48,
   "id": "656c14e0",
   "metadata": {},
   "outputs": [],
   "source": [
    "trgb = ascii.read('../../data/working/H_trgb_update3.csv')\n",
    "w = np.where(trgb['dist']>0)\n",
    "trgb=trgb[w]\n",
    "#abst = trgb['Mmax']-trgb['dist'] +(trgb['st']-1)*1.41 -trgb['BV']*3.07\n",
    "abst = trgb['Mmax']-trgb['dist'] +(trgb['st']-1)*(-0.05) -trgb['BV']*0.16\n"
   ]
  },
  {
   "cell_type": "code",
   "execution_count": 49,
   "id": "1108bc98",
   "metadata": {},
   "outputs": [],
   "source": [
    "sbf = ascii.read('../../data/working/H_sbfj21_update3.csv')\n",
    "w = np.where(sbf['dist']>0)\n",
    "sbf=sbf[w]\n",
    "#abss = sbf['Mmax']-sbf['dist'] +(sbf['st']-1)*(-.05) -sbf['BV']*0.16\n",
    "abss = sbf['Mmax']-sbf['dist'] +(sbf['st']-1)*(-.33) -sbf['BV']*0.26\n"
   ]
  },
  {
   "cell_type": "code",
   "execution_count": 50,
   "id": "941be7d5",
   "metadata": {
    "scrolled": true
   },
   "outputs": [
    {
     "data": {
      "text/plain": [
       "<matplotlib.legend.Legend at 0x7fea84cd0790>"
      ]
     },
     "execution_count": 50,
     "metadata": {},
     "output_type": "execute_result"
    },
    {
     "data": {
      "image/png": "[encoded data removed]",
      "text/plain": [
       "<Figure size 432x288 with 1 Axes>"
      ]
     },
     "metadata": {
      "needs_background": "light"
     },
     "output_type": "display_data"
    }
   ],
   "source": [
    "pl.plot(ceph['m'],absc,'bo',label='Cepehids')\n",
    "pl.plot(trgb['m'],abst,'ro', label='TRGB')\n",
    "pl.plot(sbf['m'],abss,'go', label='SBFJ21')\n",
    "pl.xlabel('Host Mass'), pl.ylabel('Absolute magnitude')\n",
    "pl.savefig('H_absmag_mass.pdf')\n",
    "pl.legend()"
   ]
  },
  {
   "cell_type": "code",
   "execution_count": null,
   "id": "39284810",
   "metadata": {},
   "outputs": [],
   "source": []
  }
 ],
 "metadata": {
  "kernelspec": {
   "display_name": "Python 3",
   "language": "python",
   "name": "python3"
  },
  "language_info": {
   "codemirror_mode": {
    "name": "ipython",
    "version": 3
   },
   "file_extension": ".py",
   "mimetype": "text/x-python",
   "name": "python",
   "nbconvert_exporter": "python",
   "pygments_lexer": "ipython3",
   "version": "3.8.5"
  }
 },
 "nbformat": 4,
 "nbformat_minor": 5
}
