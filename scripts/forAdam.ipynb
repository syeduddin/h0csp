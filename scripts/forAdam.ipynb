{
 "cells": [
  {
   "cell_type": "code",
   "execution_count": 51,
   "id": "2d345e62-ed2d-4c10-8612-ccfac747b386",
   "metadata": {},
   "outputs": [],
   "source": [
    "import sys\n",
    "import numpy as np\n",
    "from numpy import matrix\n",
    "import emcee\n",
    "import astropy.io.fits as pyfits\n",
    "import matplotlib.pylab as pl\n",
    "import random,os\n",
    "from astropy.cosmology import FlatLambdaCDM\n",
    "from scipy import optimize\n",
    "from multiprocessing import Pool\n",
    "from multiprocessing import cpu_count\n",
    "import time\n",
    "from astropy.io import ascii\n",
    "from astropy.table import Table\n",
    "import numpy.ma as ma\n",
    "\n",
    "\n",
    "c = 300000. # km/sec\n",
    "q=-0.59 # decelertion parameter\n",
    "\n",
    "\n",
    "# Eqn 9 of Bruns 2018\n",
    "def distmod(h,z1,z2):\n",
    "    t1 = (1+z1)/(1+z2)\n",
    "    t2 = (c*z2)/h\n",
    "    t3 = 1 + ((1-q)*z1/2)\n",
    "    return (5*np.log10(t1*t2*t3)) +25\n",
    "\n",
    "# Getting results\n",
    "#filter = ['u','B','g','V','r','i','Y','J','H']\n",
    "\n",
    "filter=['B']\n",
    "for i in range(len(filter)):\n",
    "\n",
    "    result = ascii.read('../results/'+filter[i]+'_trgb_update3_result.txt')\n",
    "    #result = ascii.read('../results/F24Table4.txt')\n",
    "    p0=result['p0'][0]\n",
    "    ep0 = (result['p0'][1]+result['p0'][2])/2\n",
    "    p1=result['p1'][0]\n",
    "    ep1 = (result['p1'][1]+result['p1'][2])/2\n",
    "    p2=result['p2'][0]\n",
    "    ep2 = (result['p2'][1]+result['p2'][2])/2\n",
    "    alpha=result['alpha'][0]\n",
    "    ealpha = (result['alpha'][1]+result['alpha'][2])/2\n",
    "\n",
    "    rv=result['beta'][0]\n",
    "    erv = (result['beta'][1]+result['beta'][2])/2\n",
    "    sig=result['sig_int'][0]\n",
    "    vel=result['vel'][0]\n",
    "    h0=result['H0'][0]\n",
    "    eh0 = (result['H0'][1]+result['H0'][2])/2\n",
    "\n",
    "    p0 =-19.19\n",
    "    p1 = -1.25\n",
    "    p2 = -1.23\n",
    "    alpha = -0.02\n",
    "    rv = 3.03\n",
    "    \n",
    "    tab = ascii.read('../data/working/'+filter[i]+'_trgb_update3.csv')\n",
    "   \n",
    "    w = np.where((tab['sn']!='CSP14abk') &  (tab['sn']!='PTF13dyt') &  (tab['sn']!='PTF13dym') & (tab['sn']!='PTF14yw') & (tab['sn']!='PS1-13eao') & (tab['subtype']!='Ia-SC') & (tab['subtype']!='Ia-02cx') & (tab['sn']!='LSQ14fmg')& (tab['sn']!='SN2004dt')& (tab['sn']!='SN2005gj')& (tab['sn']!='SN2005hk')& (tab['sn']!='SN2006bt')& (tab['sn']!='SN2006ot')& (tab['sn']!='SN2007so')& (tab['sn']!='SN2008ae')& (tab['sn']!='SN2008bd')& (tab['sn']!='SN2008ha')& (tab['sn']!='SN2008J')& (tab['sn']!='SN2009dc')& (tab['sn']!='SN2009J')& (tab['sn']!='SN2010ae'))\n",
    "    \n",
    "    st = tab['st'][w]\n",
    "    est = tab['est'][w]\n",
    "    zhel = tab['zhel'][w]\n",
    "    zcmb = tab['zcmb'][w]\n",
    "    mmax = tab['Mmax'][w]\n",
    "    emmax = tab['eMmax'][w]\n",
    "    bv = tab['BV'][w]\n",
    "    ebv = tab['eBV'][w]\n",
    "    m_csp = tab['m'][w]\n",
    "    ml = tab['ml'][w]\n",
    "    mu = tab['mu'][w]\n",
    "    eml = (tab['m'][w]-tab['ml'][w])\n",
    "    emu = (tab['mu'][w]-tab['m'][w])\n",
    "    em = (eml+emu)/2.\n",
    "    dist = tab['dist'][w]\n",
    "    edist = tab['edist'][w]\n",
    "    c_ms = tab['covMs'][w]\n",
    "    c_mbv = tab['covBV_M'][w]\n",
    "    c_sbv = tab['covBVs'][w]\n",
    "\n",
    "    sn = tab['sn'][w]\n",
    "    sample = tab['sample'][w]\n",
    "    cal = tab['caltype'][w]\n",
    "    host = tab['host'][w]\n",
    "    source = tab['sample'][w]\n",
    "    ww =np.where(sn =='SNhunt281')\n",
    "    subtype = tab['subtype'][w] \n",
    "    Ho_dist = tab['dist'][w]<0\n",
    "\n",
    "    st1 = p1*(st - 1)\n",
    "    st2 = p2*((st - 1)**2)\n",
    "    red = rv*(bv)\n",
    "\n"
   ]
  },
  {
   "cell_type": "code",
   "execution_count": 52,
   "id": "b0f42d55",
   "metadata": {},
   "outputs": [
    {
     "name": "stdout",
     "output_type": "stream",
     "text": [
      "    sn    mmax_snoopy mmax_corrected err_mmax  host Source\n",
      "--------- ----------- -------------- -------- ----- ------\n",
      " ASAS14ad      16.233         16.221    0.039   N/A  CSPII\n",
      " ASAS14hp      16.498         16.275    0.034   N/A  CSPII\n",
      " ASAS14hr      17.082         17.466    0.036   N/A  CSPII\n",
      " ASAS14hu      15.386         15.189    0.033   N/A  CSPII\n",
      " ASAS14jc      15.682          17.12    0.034   N/A  CSPII\n",
      " ASAS14jg      14.781         14.504    0.097   N/A  CSPII\n",
      " ASAS14jz      14.622         14.553    0.033   N/A  CSPII\n",
      " ASAS14kd      16.244          16.71    0.034   N/A  CSPII\n",
      " ASAS14kq      16.591         16.345    0.038   N/A  CSPII\n",
      " ASAS14lo      16.003         16.457     0.09   N/A  CSPII\n",
      "      ...         ...            ...      ...   ...    ...\n",
      "  SN2014D      17.251         19.057    0.109   N/A  CSPII\n",
      "  SN2014I      16.296          16.42    0.033   N/A  CSPII\n",
      "  SN2014Z       15.54         15.511    0.098   N/A  CSPII\n",
      " SN2014ao      16.919         18.884    0.033   N/A  CSPII\n",
      " SN2014at      16.389         16.327    0.033   N/A  CSPII\n",
      " SN2014ba      16.121         19.263    0.143   N/A  CSPII\n",
      " SN2014dl      16.031         15.799    0.035   N/A  CSPII\n",
      " SN2014dn       17.66         19.949    0.034   N/A  CSPII\n",
      " SN2014eg      15.512         16.005    0.036   N/A  CSPII\n",
      "SN2017cbv      11.124         11.025    0.009 N5643    N/A\n",
      "SNhunt281      13.695          14.11    0.033   N/A  CSPII\n",
      "Length = 339 rows\n"
     ]
    }
   ],
   "source": [
    "    mmax_corr = mmax + st1 + st2 + red + alpha*(m_csp-np.median(m_csp)) \n",
    "\n",
    "    mu_model = np.where(Ho_dist,distmod(h0,zhel,zcmb), dist)\n",
    "    fac= (p1+(2*p2*st))\n",
    "\n",
    "    err = (emmax**2) + ((fac*est)**2) +((rv*ebv)**2) -(2*fac*c_ms)+(2*rv*fac*c_sbv) -(2*fac*c_mbv)+((alpha*em)**2) + (sig**2) #+ ((0.00000723*vel/zcmb)**2)\n",
    "        \n",
    "    err1 = (emmax**2) + ((fac*est)**2) +((rv*ebv)**2) -(2*fac*c_ms)+(2*rv*fac*c_sbv) -(2*fac*c_mbv)+((alpha*em)**2)  + (edist**2)\n",
    "            \n",
    "    \n",
    "    mu_stat = np.where(dist<0,err,err1)\n",
    "    #mu_stat=np.sqrt(err)\n",
    "    \n",
    "    data=Table()\n",
    "    data['sn']=sn\n",
    "    #data['res']=dmu\n",
    "\n",
    "    data['mmax_snoopy'] = mmax.round(3)\n",
    "    data['mmax_corrected']=mmax_corr.round(3)\n",
    "    data['err_mmax']=mu_stat.round(3)\n",
    "    data['host'] = host\n",
    "    data['Source'] = source \n",
    "    data['Source'] = ma.filled(source, 'N/A')\n",
    "\n",
    "    nocsp = np.where(data['Source']=='N/A')\n",
    "    print(data)\n",
    "    #pl.errorbar(zcmb,emmax,yerr=emmax*0,fmt='ko',alpha=0.3)\n",
    "    #pl.errorbar(zcmb[nocsp],emmax[nocsp],yerr=emmax[nocsp]*0,fmt='bo',alpha=0.5)\n",
    "\n",
    "    \n",
    "    ascii.write(data,'../results/forAdam/TRGB_'+filter[i]+'.txt',format='tab',overwrite=True)\n",
    "    \n",
    "   \n"
   ]
  },
  {
   "cell_type": "code",
   "execution_count": 53,
   "id": "d2b6a8b5-2def-42f8-b6ea-8229024147d2",
   "metadata": {},
   "outputs": [
    {
     "data": {
      "text/plain": [
       "[<matplotlib.lines.Line2D at 0x7f9d081f5790>]"
      ]
     },
     "execution_count": 53,
     "metadata": {},
     "output_type": "execute_result"
    },
    {
     "data": {
      "image/png": "[encoded data removed]",
      "text/plain": [
       "<Figure size 432x288 with 1 Axes>"
      ]
     },
     "metadata": {
      "needs_background": "light"
     },
     "output_type": "display_data"
    }
   ],
   "source": [
    "pl.plot(mmax, mmax_corr, 'bo')"
   ]
  },
  {
   "cell_type": "code",
   "execution_count": null,
   "id": "94c3f5dc-dcb3-4f0e-b89a-94c7e3cc3a72",
   "metadata": {},
   "outputs": [],
   "source": []
  },
  {
   "cell_type": "code",
   "execution_count": null,
   "id": "0e4c207d",
   "metadata": {},
   "outputs": [],
   "source": []
  }
 ],
 "metadata": {
  "kernelspec": {
   "display_name": "Python 3",
   "language": "python",
   "name": "python3"
  },
  "language_info": {
   "codemirror_mode": {
    "name": "ipython",
    "version": 3
   },
   "file_extension": ".py",
   "mimetype": "text/x-python",
   "name": "python",
   "nbconvert_exporter": "python",
   "pygments_lexer": "ipython3",
   "version": "3.8.5"
  }
 },
 "nbformat": 4,
 "nbformat_minor": 5
}
