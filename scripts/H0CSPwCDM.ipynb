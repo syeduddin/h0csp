{
 "cells": [
  {
   "cell_type": "markdown",
   "id": "d992e966",
   "metadata": {},
   "source": [
    " This notebook is to calibrate SNe Ia and and calcualte H0 in wCDM.  "
   ]
  },
  {
   "cell_type": "code",
   "execution_count": null,
   "id": "155ad250",
   "metadata": {},
   "outputs": [],
   "source": [
    "# Importing necessary libraries \n",
    "import sys\n",
    "import numpy as np\n",
    "import emcee\n",
    "import astropy.io.fits as pyfits\n",
    "import matplotlib.pylab as pl\n",
    "import random,os\n",
    "from multiprocessing import Pool\n",
    "from multiprocessing import cpu_count\n",
    "import time\n",
    "from astropy.io import ascii\n",
    "import corner\n",
    "from scipy.integrate import quad\n",
    "import scipy.integrate as spi\n"
   ]
  },
  {
   "cell_type": "markdown",
   "id": "0a25db35",
   "metadata": {},
   "source": [
    "Defining computing resources"
   ]
  },
  {
   "cell_type": "code",
   "execution_count": null,
   "id": "acee4bff",
   "metadata": {},
   "outputs": [],
   "source": [
    "ncpu = cpu_count()\n",
    "print(\"{0} CPUs\".format(ncpu))\n",
    "os.environ[\"OMP_NUM_THREADS\"] = \"1\""
   ]
  },
  {
   "cell_type": "code",
   "execution_count": null,
   "id": "2049099e",
   "metadata": {},
   "outputs": [],
   "source": [
    "np.float = float    \n",
    "np.int = int   #module 'numpy' has no attribute 'int'\n",
    "np.object = object    #module 'numpy' has no attribute 'object'\n",
    "np.bool = bool    #module 'numpy' has no attribute 'bool'"
   ]
  },
  {
   "cell_type": "markdown",
   "id": "e2b20307",
   "metadata": {},
   "source": [
    "Read files containing calibrators and distant SNe Ia. All files are at ../data/working/ directory"
   ]
  },
  {
   "cell_type": "code",
   "execution_count": null,
   "id": "ddf4c54a",
   "metadata": {},
   "outputs": [],
   "source": [
    "file = 'B_ceph_update3.csv' # change the filaname here if needed for other bands or for other calibrators\n",
    "tab = ascii.read('../data/working/'+file)"
   ]
  },
  {
   "cell_type": "code",
   "execution_count": null,
   "id": "55cab922",
   "metadata": {},
   "outputs": [],
   "source": []
  },
  {
   "cell_type": "markdown",
   "id": "15e8f8b1",
   "metadata": {},
   "source": [
    "Here we select sample from the original sample"
   ]
  },
  {
   "cell_type": "code",
   "execution_count": null,
   "id": "796ad1db",
   "metadata": {},
   "outputs": [],
   "source": [
    "# Excluding peculiar events\n",
    "w = np.where((tab['sn']!='CSP14abk') &  (tab['sn']!='PTF13dyt') &  (tab['sn']!='PTF13dym') &  (tab['sn']!='PS1-13eao') & (tab['subtype']!='Ia-SC') & (tab['subtype']!='Ia-02cx') & (tab['sn']!='1981B') & (tab['sn']!='SN2012fr') & (tab['sn']!='1991T'))\n",
    "\n",
    "# Excluding peculiar events + 91T and 91bg\n",
    "#w = np.where((tab['sn']!='CSP14abk') &  (tab['sn']!='PTF13dyt') &  (tab['sn']!='PTF13dym') &  (tab['sn']!='PS1-13eao') & (tab['subtype']!='Ia-91T')& (tab['subtype']!='Ia-91bg'))\n"
   ]
  },
  {
   "cell_type": "markdown",
   "id": "80ac05c0",
   "metadata": {},
   "source": [
    "Reading all parameters from the input file and marking distance hosts."
   ]
  },
  {
   "cell_type": "code",
   "execution_count": null,
   "id": "da8e2146",
   "metadata": {},
   "outputs": [],
   "source": [
    "# LC and host\n",
    "st = tab['st'][w]\n",
    "est = tab['est'][w]\n",
    "zhel = tab['zhel'][w]\n",
    "zcmb = tab['zcmb'][w]\n",
    "mmax = tab['Mmax'][w]\n",
    "emmax = tab['eMmax'][w]\n",
    "bv =tab['BV'][w]\n",
    "ebv = tab['eBV'][w]\n",
    "m_csp = tab['m'][w]\n",
    "eml = (tab['m'][w]-tab['ml'][w])\n",
    "emu = (tab['mu'][w]-tab['m'][w])\n",
    "em = (emu+eml)/2.\n",
    "\n",
    "dist = tab['dist'][w]\n",
    "edist = tab['edist'][w]\n",
    "c_ms = tab['covMs'][w]\n",
    "c_mbv = tab['covBV_M'][w]\n",
    "sn = tab['sn'][w]\n",
    "cal = tab['caltype'][w]\n",
    "\n",
    "Ho_dists = (dist < 0)\n",
    "#Ho_dists = (cal =='s')\n",
    "#print (file, len(st), len(st[Ho_dists]))\n",
    "\n",
    "ss= np.where(dist>0)\n",
    "print (np.min(zcmb), len(st[ss]))"
   ]
  },
  {
   "cell_type": "code",
   "execution_count": null,
   "id": "07226274",
   "metadata": {},
   "outputs": [],
   "source": [
    "#initial guess\n",
    "plim=-19.3, -19.2\n",
    "p1lim =-1.2,-1.1\n",
    "p2lim=-.055,-0.05\n",
    "rvlim =2.7,2.71\n",
    "alphalim=-0.11,-0.1\n",
    "siglim=0.1,.12\n",
    "vellim =300.,310\n",
    "h0lim= 71.0,71.1"
   ]
  },
  {
   "cell_type": "code",
   "execution_count": null,
   "id": "18856c3e",
   "metadata": {},
   "outputs": [],
   "source": [
    "# Eqn 9 of Bruns 2018 but for q for wcdm\n",
    "# q = omega_m/2 + (1+3w/2)*omega_lambda\n",
    "omega_m = 0.3\n",
    "omega_lambda = 0.7\n",
    "w0 = -0.8\n",
    "\n",
    "q = omega_m/2. +((1.+(3.*w0))/2.)*omega_lambda\n",
    "\n",
    "def distmod(h,z1,z2):\n",
    "    t1 = (1+z1)/(1+z2)\n",
    "    t2 = (c*z2)/h\n",
    "    t3 = 1 + (((1-q)/2)*z2)\n",
    "    return (5*np.log10(t1*t2*t3)) +25\n"
   ]
  },
  {
   "cell_type": "code",
   "execution_count": null,
   "id": "16e06efb",
   "metadata": {},
   "outputs": [],
   "source": [
    "# Liklihood function\n",
    "def like(par):\n",
    "    p,p1,p2,rv,alpha,sig,vel,h0 = par\n",
    "    if  -25.0<p<14.0  and -10.0<p1<10.0 and -10.0<p2<10.0 and 0.<rv<10.0 and -1.<alpha<1. and 0.<sig<1. and 0.<vel<1000. and  0.01< h0 < 1000.0: # priors\n",
    "        \n",
    "\n",
    "        print (par)\n",
    "        mu_obs = mmax - p - p1*(st - 1.) -  p2*(st - 1.)**2 - rv*bv - alpha*(m_csp-np.median(m_csp))\n",
    "        #mu_obs = mmax - p - p1*(st - 1.) -  p2*(st - 1.)**2 - rv*bv - (alpha*m_csp) # slope \n",
    "\n",
    "\n",
    "        mu_model = np.where(Ho_dists, distmod(h0,zhel,zcmb), dist)\n",
    "        \n",
    "\n",
    "        fac= (p1+(2*p2*st))\n",
    "        velterm = (2.17*vel)**2/(c*zcmb)**2\n",
    "        err = (fac*est)**2 +emmax**2 +(rv*ebv)**2+2*fac*c_ms+rv*c_mbv+sig**2+(0.00000723*vel/zcmb)**2 +(alpha*em)**2\n",
    "        err1 = ((fac*est)**2) +(emmax**2) +((rv*ebv)**2)+(2*fac*c_ms)+(rv*c_mbv)+sig**2+(edist**2)+(alpha*em)**2#\n",
    "    \n",
    "        mu_stat = np.where(Ho_dists,err,err1)\n",
    "\n",
    "      \n",
    "        mu_stat=np.sqrt(mu_stat)\n",
    "        dmu=mu_obs-mu_model\n",
    "        \n",
    "        chi =np.sum((dmu)**2/mu_stat**2)\n",
    "        return -0.5*chi - (0.5*np.sum(np.log(2*np.pi*(mu_stat)**2))) \n",
    "    else:\n",
    "        return -np.inf"
   ]
  },
  {
   "cell_type": "code",
   "execution_count": null,
   "id": "98fde63b",
   "metadata": {},
   "outputs": [],
   "source": [
    "# EMCEE\n",
    "ndim, nwalkers = 8, 80\n",
    "ssize=500\n",
    "burnin = 200\n",
    "\n",
    "\n",
    "p00 = np.random.rand(nwalkers) * (plim[1] - plim[0]) + plim[0]\n",
    "p10 = np.random.rand(nwalkers) * (p1lim[1] - p1lim[0]) + p1lim[0]\n",
    "p20 = np.random.rand(nwalkers) * (p2lim[1] - p2lim[0]) + p2lim[0]\n",
    "rv0 = np.random.rand(nwalkers) * (rvlim[1] - rvlim[0]) + rvlim[0]\n",
    "alpha0 = np.random.rand(nwalkers) * (alphalim[1] - alphalim[0]) + alphalim[0]\n",
    "sig0 = np.random.rand(nwalkers) * (siglim[1] - siglim[0]) + siglim[0]\n",
    "vel0 = np.random.rand(nwalkers) * (vellim[1] - vellim[0]) + vellim[0]\n",
    "h00 = np.random.rand(nwalkers) * (h0lim[1] - h0lim[0]) + h0lim[0]\n",
    "\n",
    "#p0 = zip(*[p00,p10,p20,rv0,alpha0,sig0,vel0,h00])\n",
    "p0 = np.array([p00,p10,p20,rv0,alpha0,sig0,vel0,h00]).T"
   ]
  },
  {
   "cell_type": "code",
   "execution_count": null,
   "id": "cdfbce6d",
   "metadata": {},
   "outputs": [],
   "source": [
    "sampler = emcee.EnsembleSampler(nwalkers, ndim, like)\n",
    "print (\"running mcmc on \"+file)\n",
    "start = time.time()\n",
    "sampler.run_mcmc(p0,ssize,progress=True)\n",
    "samples = sampler.chain[:, burnin:, :].reshape((-1, ndim))\n",
    "end = time.time()\n",
    "serial_time = end - start"
   ]
  },
  {
   "cell_type": "code",
   "execution_count": null,
   "id": "3cc71eeb",
   "metadata": {},
   "outputs": [],
   "source": [
    "# Chains\n",
    "fig, axes = pl.subplots(8, figsize=(10, 7), sharex=True)\n",
    "samples = sampler.get_chain()\n",
    "labels = [\"$M_B$\",\"P1\", \"P2\", r\"$\\beta$\",r\"$\\alpha$\", r\"$\\sigma_{int}$\",r\"$V_{pec}$\", r\"$H_0$\"]\n",
    "for j in range(ndim):\n",
    "    ax = axes[j]\n",
    "    ax.plot(samples[:, :, j], \"k\", alpha=0.3)\n",
    "    ax.set_xlim(0, len(samples))\n",
    "    ax.set_ylabel(labels[j])\n",
    "    ax.yaxis.set_label_coords(-0.1, 0.5)\n",
    "\n",
    "axes[-1].set_xlabel(\"step number\")\n",
    "\n",
    "#fig.savefig(\"../plots/steps_\"+file[:-4]+\"_\"+str(nwalkers)+\"_\"+str(ssize)+\".pdf\")\n",
    "\n",
    "samples = sampler.chain[:, burnin:, :].reshape((-1, ndim))\n"
   ]
  },
  {
   "cell_type": "code",
   "execution_count": null,
   "id": "d5a54bb4",
   "metadata": {},
   "outputs": [],
   "source": [
    "# Printing results\n",
    "p0_mcmc,p1_mcmc,p2_mcmc,rv_mcmc,alpha_mcmc,sig_mcmc,vel_mcmc, H0_mcmc = map(lambda v: (v[1], v[2]-v[1], v[1]-v[0]),\n",
    "                             zip(*np.percentile(samples, [16, 50, 84],\n",
    "                                                axis=0)))\n",
    "\n",
    "\n",
    "print(\"\"\"MCMC result:\n",
    "    P0 = {0[0]} +{0[1]} -{0[2]} \n",
    "    P1 = {1[0]} +{1[1]} -{1[2]} \n",
    "    P2 = {2[0]} +{2[1]} -{2[2]} \n",
    "    Beta = {3[0]} +{3[1]} -{3[2]}\n",
    "    Alpha = {4[0]} +{4[1]} -{4[2]}\n",
    "    Sigma = {5[0]} +{5[1]} -{5[2]}\n",
    "    Vpec = {6[0]} +{6[1]} -{6[2]}\n",
    "    H0 = {7[0]} +{7[1]} -{7[2]}\n",
    "\n",
    "   \n",
    "\"\"\".format(p0_mcmc, p1_mcmc, p2_mcmc,rv_mcmc,alpha_mcmc,sig_mcmc,vel_mcmc, H0_mcmc))\n"
   ]
  },
  {
   "cell_type": "code",
   "execution_count": null,
   "id": "787028ca",
   "metadata": {},
   "outputs": [],
   "source": [
    "print (\"Mean acceptance fraction:\", np.mean(sampler.acceptance_fraction))\n",
    "\n",
    "# Corner plot\n",
    "figure = corner.corner(samples,labels=[\"$P0$\",\"$P1$\", \"$P2$\", r\"$\\beta$\",r\"$\\alpha$\", r\"$\\sigma_{int}$\",\"$V_{pec}$\", r\"$H_0$\"],quantiles=[0.16, 0.5, 0.84],truths=[p0_mcmc[0],p1_mcmc[0],p2_mcmc[0],rv_mcmc[0],alpha_mcmc[0],sig_mcmc[0],vel_mcmc[0],H0_mcmc[0]],show_titles=True)\n",
    "\n",
    "print(\"Serial took {0:.1f} minutes\".format(serial_time/60.))"
   ]
  }
 ],
 "metadata": {
  "kernelspec": {
   "display_name": "Python 3",
   "language": "python",
   "name": "python3"
  },
  "language_info": {
   "codemirror_mode": {
    "name": "ipython",
    "version": 3
   },
   "file_extension": ".py",
   "mimetype": "text/x-python",
   "name": "python",
   "nbconvert_exporter": "python",
   "pygments_lexer": "ipython3",
   "version": "3.8.5"
  }
 },
 "nbformat": 4,
 "nbformat_minor": 5
}
