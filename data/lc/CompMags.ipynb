{
 "cells": [
  {
   "cell_type": "code",
   "execution_count": 3,
   "id": "eb8a908c-bb02-4679-8284-8a4ce23a0115",
   "metadata": {},
   "outputs": [],
   "source": [
    "import pandas as pd\n",
    "import numpy as np"
   ]
  },
  {
   "cell_type": "code",
   "execution_count": 4,
   "id": "7d8a9e16-9dd9-4d9c-bdad-c2e06d1e722c",
   "metadata": {},
   "outputs": [],
   "source": [
    "df = pd.read_csv('Spreadsheet.csv')"
   ]
  },
  {
   "cell_type": "code",
   "execution_count": 5,
   "id": "d802553d-4ae0-4b03-9730-fc00170a975d",
   "metadata": {},
   "outputs": [
    {
     "data": {
      "text/plain": [
       "Index(['Name', 'Name(P19)', 'sample', 'Sub-type', 'RA', 'DEC', 'Host', 'diff',\n",
       "       'zhel(P19)', 'ZC', 'zhel', 'zcmb', 'sBV', 'e(sBV)', 'sBV(temp)',\n",
       "       'e(sBV) stat', 'e(sBV) tot', 'dm15(B)', 'e(dm15(B))', 'dm15',\n",
       "       'e(dm15)stat', 'e(dm15)', 'Tmax (MJD)', 'e(Tmax)', 'Bmax', 'e(Bmax)',\n",
       "       'E(B-V) MW', 'E(B-V)', 'e(E(B-V))', 'R_V Host', 'e(R_V) Host',\n",
       "       'm_B(max)', 'M_B(max)', 'e(M_B)', 'cov(E,R_V)', 'DMcv', 'eDMcv', 'DM',\n",
       "       'res', 'q', 'Cosmology?', 'Physics?', 'Baltay?', 'Comments',\n",
       "       'LC Training'],\n",
       "      dtype='object')"
      ]
     },
     "execution_count": 5,
     "metadata": {},
     "output_type": "execute_result"
    }
   ],
   "source": [
    "df.columns"
   ]
  },
  {
   "cell_type": "code",
   "execution_count": 13,
   "id": "21a167bd-4424-4621-9dda-634df5e3cbcf",
   "metadata": {},
   "outputs": [
    {
     "name": "stdout",
     "output_type": "stream",
     "text": [
      "        Name Name(P19) sample Sub-type   RA  DEC Host  diff  zhel(P19)  ZC  \\\n",
      "360  SN2015H        na  CSPII  Ia-02cx  NaN  NaN  NaN   NaN        NaN NaN   \n",
      "\n",
      "     ...  DMcv  eDMcv  DM  res   q  Cosmology?  Physics?  Baltay?  Comments  \\\n",
      "360  ...   NaN    NaN NaN  NaN NaN         NaN       NaN      NaN       Iax   \n",
      "\n",
      "     LC Training  \n",
      "360          NaN  \n",
      "\n",
      "[1 rows x 45 columns]\n"
     ]
    }
   ],
   "source": [
    "w = np.where(df['Name']=='SN1981B')\n",
    "print(df[df['Name']=='SN2015H'])"
   ]
  },
  {
   "cell_type": "code",
   "execution_count": null,
   "id": "ca3ad723-6b0f-4453-95e1-ea521488d1de",
   "metadata": {},
   "outputs": [],
   "source": []
  },
  {
   "cell_type": "code",
   "execution_count": null,
   "id": "8c3c9798-b930-4236-9023-6189699eec75",
   "metadata": {},
   "outputs": [],
   "source": []
  }
 ],
 "metadata": {
  "kernelspec": {
   "display_name": "Python 3 (ipykernel)",
   "language": "python",
   "name": "python3"
  },
  "language_info": {
   "codemirror_mode": {
    "name": "ipython",
    "version": 3
   },
   "file_extension": ".py",
   "mimetype": "text/x-python",
   "name": "python",
   "nbconvert_exporter": "python",
   "pygments_lexer": "ipython3",
   "version": "3.12.7"
  }
 },
 "nbformat": 4,
 "nbformat_minor": 5
}
