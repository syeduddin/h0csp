{
 "cells": [
  {
   "cell_type": "code",
   "execution_count": null,
   "id": "eb8a908c-bb02-4679-8284-8a4ce23a0115",
   "metadata": {},
   "outputs": [],
   "source": [
    "import pandas as pd"
   ]
  },
  {
   "cell_type": "code",
   "execution_count": null,
   "id": "7d8a9e16-9dd9-4d9c-bdad-c2e06d1e722c",
   "metadata": {},
   "outputs": [],
   "source": [
    "df = pd.read('Spreadsheer.csv')"
   ]
  }
 ],
 "metadata": {
  "kernelspec": {
   "display_name": "Python 3 (ipykernel)",
   "language": "python",
   "name": "python3"
  },
  "language_info": {
   "codemirror_mode": {
    "name": "ipython",
    "version": 3
   },
   "file_extension": ".py",
   "mimetype": "text/x-python",
   "name": "python",
   "nbconvert_exporter": "python",
   "pygments_lexer": "ipython3",
   "version": "3.12.7"
  }
 },
 "nbformat": 4,
 "nbformat_minor": 5
}
